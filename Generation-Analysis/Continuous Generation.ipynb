{
 "cells": [
  {
   "cell_type": "code",
   "execution_count": null,
   "metadata": {},
   "outputs": [],
   "source": [
    "import warnings\n",
    "warnings.filterwarnings('ignore')\n",
    "import numpy as np\n",
    "from keras import backend as K\n",
    "from keras.models import load_model\n",
    "import tensorflow as tf\n",
    "import pandas as pd"
   ]
  },
  {
   "cell_type": "markdown",
   "metadata": {},
   "source": [
    "# Load Models"
   ]
  },
  {
   "cell_type": "code",
   "execution_count": null,
   "metadata": {},
   "outputs": [],
   "source": [
    "n_z = 32\n",
    "def vae_loss(y_true, y_pred):\n",
    "    \n",
    "    # Reconstruction Loss\n",
    "    y_true_reshaped=tf.reshape(y_true,[-1,89,11])\n",
    "    recon = 10 * K.mean(K.sum(K.categorical_crossentropy(y_true_reshaped, y_pred, axis=2),axis=1))\n",
    "\n",
    "    # KL Divergence Loss\n",
    "    kl = 0.05 * K.sum(K.exp(log_sigma) + K.square(mu) - 1. - log_sigma, axis=1)\n",
    "    \n",
    "    #Total loss\n",
    "    return recon + kl"
   ]
  },
  {
   "cell_type": "code",
   "execution_count": null,
   "metadata": {},
   "outputs": [],
   "source": [
    "decoder = load_model('../CVAE/ding_decoder_best.h5',custom_objects={'n_z': n_z,'vae_loss':vae_loss})"
   ]
  },
  {
   "cell_type": "code",
   "execution_count": null,
   "metadata": {},
   "outputs": [],
   "source": [
    "def sample_z_batch(batch_size):\n",
    "    return K.random_normal(shape=(batch_size, n_z), mean=0., stddev=1.)"
   ]
  },
  {
   "cell_type": "code",
   "execution_count": null,
   "metadata": {},
   "outputs": [],
   "source": [
    "pred_delta_e = load_model('../Predictors/delta_e_best_model.h5')\n",
    "pred_energy_pa = load_model('../Predictors/energy_pa_best_model.h5')\n",
    "pred_volume_pa =load_model('../Predictors/volume_pa_best_model.h5')"
   ]
  },
  {
   "cell_type": "code",
   "execution_count": null,
   "metadata": {},
   "outputs": [],
   "source": [
    "element_list = ['H', 'He', 'Li', 'Be', 'B', 'C', 'N', 'O', 'F', 'Ne', 'Na', 'Mg', 'Al', 'Si', 'P', 'S', 'Cl', 'Ar', 'K', 'Ca', 'Sc', 'Ti', 'V', 'Cr','Mn', 'Fe', 'Co', 'Ni', 'Cu', 'Zn', 'Ga', 'Ge', 'As', 'Se', 'Br', 'Kr', 'Rb', 'Sr', 'Y', 'Zr', 'Nb', 'Mo', 'Tc', 'Ru', 'Rh', 'Pd', 'Ag', 'Cd', 'In', 'Sn', 'Sb', 'Te', 'I', 'Xe', 'Cs', 'Ba', 'La', 'Ce', 'Pr', 'Nd', 'Pm', 'Sm', 'Eu', 'Gd', 'Tb', 'Dy', 'Ho', 'Er', 'Tm', 'Yb', 'Lu', 'Hf', 'Ta', 'W', 'Re', 'Os', 'Ir', 'Pt', 'Au', 'Hg', 'Tl', 'Pb', 'Bi', 'Ac', 'Th', 'Pa', 'U', 'Np', 'Pu']"
   ]
  },
  {
   "cell_type": "markdown",
   "metadata": {},
   "source": [
    "# Check continuity of latent space"
   ]
  },
  {
   "cell_type": "code",
   "execution_count": null,
   "metadata": {},
   "outputs": [],
   "source": [
    "property_desired = [-2, 12, -6.5]"
   ]
  },
  {
   "cell_type": "code",
   "execution_count": null,
   "metadata": {},
   "outputs": [],
   "source": [
    "def decode_mol_encoding(z):\n",
    "    mol_enc = decoder.predict([z.reshape(1,-1),np.array(property_desired).reshape(1,-1)]).reshape(89,11)\n",
    "    mol_enc[mol_enc<0.5]=0\n",
    "    delta_e=pred_delta_e.predict(mol_enc.reshape(1,-1)).flatten()[0]\n",
    "    \n",
    "    volume_pa=pred_volume_pa.predict(mol_enc.reshape(1,-1)).flatten()[0]\n",
    "    energy_pa=pred_energy_pa.predict(mol_enc.reshape(1,-1)).flatten()[0]\n",
    "    properties=np.array([delta_e,volume_pa,energy_pa])\n",
    "\n",
    "    output_gen=np.zeros((89,))\n",
    "    for j,atom in enumerate(mol_enc):\n",
    "        if atom.max()!=0:\n",
    "            output_gen[j] = atom.argmax()\n",
    "    element_dict = {}\n",
    "    for i in range(output_gen.size):\n",
    "        if output_gen[i]:\n",
    "            element_dict[element_list[i]] = output_gen[i]\n",
    "    mol_string = \"\"\n",
    "    for elem in sorted(element_dict):\n",
    "            mol_string += str(elem) + str(int(element_dict[elem]))  \n",
    "    return mol_string, properties"
   ]
  },
  {
   "cell_type": "markdown",
   "metadata": {},
   "source": [
    "## Generate materials for the initial and final point"
   ]
  },
  {
   "cell_type": "code",
   "execution_count": null,
   "metadata": {},
   "outputs": [],
   "source": [
    "z = sample_z_batch(2)\n",
    "z = K.eval(z)\n",
    "for idx in range(2):\n",
    "    print(decode_mol_encoding(z[idx,:]))"
   ]
  },
  {
   "cell_type": "code",
   "execution_count": null,
   "metadata": {},
   "outputs": [],
   "source": [
    "z_initial = z[0,:]\n",
    "z_final = z[1,:]"
   ]
  },
  {
   "cell_type": "markdown",
   "metadata": {},
   "source": [
    "## Walk between the points"
   ]
  },
  {
   "cell_type": "code",
   "execution_count": null,
   "metadata": {},
   "outputs": [],
   "source": [
    "z_diff = z_final - z_initial\n",
    "molecule_names=[]\n",
    "molecules_delta_e=[]\n",
    "molecules_volume_pa=[]\n",
    "molecules_energy_pa=[]\n",
    "step_length = 0.01\n",
    "for i in range(100):    \n",
    "    z_intermediate = z_initial + z_diff*step_length*i\n",
    "    mol_string, current_properties = decode_mol_encoding(z_intermediate)\n",
    "    \n",
    "    if mol_string not in molecule_names:\n",
    "        molecule_names.append(mol_string)\n",
    "        molecules_delta_e.append(current_properties[0])\n",
    "        molecules_volume_pa.append(current_properties[1])\n",
    "        molecules_energy_pa.append(current_properties[2])\n",
    "\n",
    "mol_data={'delta_e':molecules_delta_e,'volume_pa':molecules_volume_pa,'energy_pa':molecules_energy_pa}\n",
    "mol_trans=pd.DataFrame.from_dict(data=mol_data,orient='index',columns=molecule_names)"
   ]
  },
  {
   "cell_type": "code",
   "execution_count": null,
   "metadata": {},
   "outputs": [],
   "source": [
    "mol_trans"
   ]
  }
 ],
 "metadata": {
  "kernelspec": {
   "display_name": "Python 3",
   "language": "python",
   "name": "python3"
  },
  "language_info": {
   "codemirror_mode": {
    "name": "ipython",
    "version": 3
   },
   "file_extension": ".py",
   "mimetype": "text/x-python",
   "name": "python",
   "nbconvert_exporter": "python",
   "pygments_lexer": "ipython3",
   "version": "3.6.8"
  }
 },
 "nbformat": 4,
 "nbformat_minor": 4
}
